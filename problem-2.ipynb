{
 "cells": [
  {
   "cell_type": "code",
   "execution_count": 1,
   "id": "b72f2265",
   "metadata": {},
   "outputs": [],
   "source": [
    "#Write a program that will convert celsius value to fahrenheit"
   ]
  },
  {
   "cell_type": "code",
   "execution_count": 2,
   "id": "1d1b538f",
   "metadata": {},
   "outputs": [
    {
     "name": "stdout",
     "output_type": "stream",
     "text": [
      "enter the celsius value: 40\n",
      "fahrenheit is:  104.0\n"
     ]
    }
   ],
   "source": [
    "c = int(input(\"enter the celsius value: \"))\n",
    "f = (9/5)*c + 32\n",
    "print(\"fahrenheit is: \",f)"
   ]
  },
  {
   "cell_type": "code",
   "execution_count": null,
   "id": "b6e30821",
   "metadata": {},
   "outputs": [],
   "source": []
  }
 ],
 "metadata": {
  "kernelspec": {
   "display_name": "Python 3 (ipykernel)",
   "language": "python",
   "name": "python3"
  },
  "language_info": {
   "codemirror_mode": {
    "name": "ipython",
    "version": 3
   },
   "file_extension": ".py",
   "mimetype": "text/x-python",
   "name": "python",
   "nbconvert_exporter": "python",
   "pygments_lexer": "ipython3",
   "version": "3.10.8"
  }
 },
 "nbformat": 4,
 "nbformat_minor": 5
}
